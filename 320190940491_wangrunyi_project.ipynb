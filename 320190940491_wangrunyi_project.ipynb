{
 "cells": [
  {
   "cell_type": "markdown",
   "metadata": {},
   "source": [
    "<h1 style = \"text-align:center\"> Cloud Computing and Big Data, Spring 2022</h1>\n",
    "<h2 style = \"text-align:center\"> Assignment Report</h2>\n",
    "\n",
    "<br>\n",
    "<div style=\"text-align:center; border-style:solid; padding: 10px\">\n",
    "<div style=\"font-weight:bold\"> Set Date: Friday, June 10, 2022</div>\n",
    "<div style=\"font-weight:bold\"> Due Date: 11:59pm, Friday, July 01, 2022</div>\n",
    "<br>\n",
    "This assignment counts for 30% of the final grade, along with 40% lab practical, and 30% final exam\n",
    "<br>\n",
    "Submit your completed Jupyter notebook file through the course website in the Blackboard Learn system\n",
    "</div>\n"
   ]
  },
  {
   "cell_type": "markdown",
   "metadata": {},
   "source": [
    "---\n",
    "\n",
    "## Assignment Title: Word Prediction Using Logistic Regression\n",
    "\n",
    "## Student Name: Runyi Wang\n",
    "## Student ID: 320190940491\n",
    "\n",
    "---"
   ]
  },
  {
   "cell_type": "markdown",
   "metadata": {},
   "source": [
    "# Assignment Requirements\n",
    "\n",
    "This assignment examines the level of knowledge the students have learned from the course. The assignment must be done on a cloud computing platform, for example, the Apache Spark platform."
   ]
  },
  {
   "cell_type": "markdown",
   "metadata": {},
   "source": [
    "#### Abstract\n",
    "---\n",
    "*(Briefly summarize the cloud-based assignment including the problem, data sets, models, evaluation, and final findings.)* "
   ]
  },
  {
   "cell_type": "markdown",
   "metadata": {},
   "source": [
    "本项目将采用机器学习中的逻辑回归模型实现对于句子的单字预测，查看所需要预测的句子中是否包含“S􏰂􏰏􏰐􏰘park”这个单字。项目数据集较小， 利用 ML􏰅􏰍􏰄 中的 􏰉􏰏􏰁􏰏􏰗􏰐􏰏􏰓􏰋 创建相关函数，采用手动输入方式进行原始数据集输入，使用 准确率(A􏰈􏰈􏰒􏰐􏰏􏰈􏰕)作为算法评价指标，来判断输出结果的可靠性。"
   ]
  },
  {
   "cell_type": "markdown",
   "metadata": {},
   "source": [
    "### 1. Introduction\n",
    "---\n",
    "*(Introduce the assignment, describe the objectives, and present the results. This section will provide an overview of the entire assignment including the description of the data sets and the cloud-based data analytics methods and techniques the team used for analyzing the data to address the problem. Highlight the key findings.)* "
   ]
  },
  {
   "cell_type": "markdown",
   "metadata": {},
   "source": [
    "本项目将采用机器学习中的逻辑回归模型实现对于句子的单字预测，查看所需要预测的句子中是否包含“Spark􏰂􏰏􏰐􏰘”这个单字。项目数据集较小， 利用 ML􏰅􏰍􏰄 中的 􏰉􏰏􏰁􏰏􏰗􏰐􏰏􏰓􏰋 创建相关函数，采用手动输入方式进行原始数据集输入，使用 准确率(A􏰈􏰈􏰒􏰐􏰏􏰈􏰕)作为算法评价指标，来判断输出结果的可靠性。"
   ]
  },
  {
   "cell_type": "markdown",
   "metadata": {},
   "source": [
    "### 2. Problem Definition\n",
    "---\n",
    "*(Define the problem that will be solved in this cloud computing assignment, what are the challenges of this problem?)*"
   ]
  },
  {
   "cell_type": "markdown",
   "metadata": {},
   "source": [
    "问题定义：MLlib 下逻辑回归模型(LR) 实现句子的单字预测\n"
   ]
  },
  {
   "cell_type": "markdown",
   "metadata": {},
   "source": [
    "### 3. Data\n",
    "---\n",
    "*(Describe the origin, format, and  charateristics of the data. For example, where the data was obtained from, what data is contained in the set. The size of the dataset in terms of instances and features. What are the classes of the dataset)*"
   ]
  },
  {
   "cell_type": "markdown",
   "metadata": {},
   "source": [
    "Data Description: A small dataset that contains \n"
   ]
  },
  {
   "cell_type": "code",
   "execution_count": 1,
   "metadata": {},
   "outputs": [],
   "source": [
    "# Import Relevant Modules and Libraries\n",
    "\n",
    "# Modules for DataFrame Structure\n",
    "import numpy as np\n",
    "import pandas as pd\n",
    "import seaborn as sns\n",
    "from matplotlib import pyplot as plt"
   ]
  },
  {
   "cell_type": "code",
   "execution_count": 7,
   "metadata": {},
   "outputs": [
    {
     "name": "stderr",
     "output_type": "stream",
     "text": [
      "/home/hadoop/my_project_dir/my_project_env/lib/python3.6/site-packages/pyspark/context.py:238: FutureWarning: Python 3.6 support is deprecated in Spark 3.2.\n",
      "  FutureWarning\n"
     ]
    }
   ],
   "source": [
    "# Modelues for pySpark Machine Learning Tool (Mlib)\n",
    "from pyspark.ml.feature import Tokenizer,HashingTF\n",
    "from pyspark.ml.classification import LogisticRegression\n",
    "from pyspark.ml.evaluation import MulticlassClassificationEvaluator,BinaryClassificationEvaluator\n",
    "from pyspark.ml import Pipeline,PipelineModel\n",
    "from pyspark.ml.linalg import Vector\n",
    "from pyspark.sql import Row\n",
    "\n",
    "# Modeules for Distuibuted Computing\n",
    "import pyspark \n",
    "import findspark\n",
    "from pyspark.sql import SparkSession\n",
    "from pyspark.storagelevel import StorageLevel \n",
    "\n",
    "spark = SparkSession.builder \\\n",
    "        .appName(\"dbscan\") \\\n",
    "        .config(\"master\",\"local[4]\") \\\n",
    "        .enableHiveSupport() \\\n",
    "        .getOrCreate()\n",
    "\n",
    "sc = spark.sparkContext"
   ]
  },
  {
   "cell_type": "code",
   "execution_count": 2,
   "metadata": {},
   "outputs": [],
   "source": [
    "data_train_raw = [(0,\"a b c d e spark\",1.0),\n",
    "                  (1,\"a c f g\",0.0),\n",
    "                  (2,\"learn spark and say hello world\",1.0),\n",
    "                  (3,\"hadoop mapreduce big data analysis\",0.0),\n",
    "                  (4,\"I love spark and spark is fast\", 1.0),\n",
    "                  (5,\"big data needs \",0.0),\n",
    "                  (6,\"spark is much faster than mapreduce\",1.0),\n",
    "                  (7,\"spark is based on hadoop\",1.0),\n",
    "                  (8,\"spark fast \",1.0),\n",
    "                  (9,\"fast does not mean reliable\",0.0),\n",
    "                  (10,\"hello spark and hadoop\",0.0)]\n",
    "\n",
    "data_test_raw = [(11,\"spark job\",1.0),\n",
    "                 (12,\"hello world and hadoop\",0.0),\n",
    "                 (13,\"a b c d e\",0.0),\n",
    "                 (14,\"fast blast cast mapreduce\",0.0),\n",
    "                 (15,\"spark is easy to use.\",1.0)]\n",
    "\n",
    "df_train = pd.DataFrame(data_train_raw, columns=[\"id\",\"text\",\"label\"])\n",
    "df_test = pd.DataFrame(data_test_raw, columns=[\"id\",\"text\",\"label\"])"
   ]
  },
  {
   "cell_type": "code",
   "execution_count": 3,
   "metadata": {},
   "outputs": [
    {
     "data": {
      "text/html": [
       "<div>\n",
       "<style scoped>\n",
       "    .dataframe tbody tr th:only-of-type {\n",
       "        vertical-align: middle;\n",
       "    }\n",
       "\n",
       "    .dataframe tbody tr th {\n",
       "        vertical-align: top;\n",
       "    }\n",
       "\n",
       "    .dataframe thead th {\n",
       "        text-align: right;\n",
       "    }\n",
       "</style>\n",
       "<table border=\"1\" class=\"dataframe\">\n",
       "  <thead>\n",
       "    <tr style=\"text-align: right;\">\n",
       "      <th></th>\n",
       "      <th>id</th>\n",
       "      <th>text</th>\n",
       "      <th>label</th>\n",
       "    </tr>\n",
       "  </thead>\n",
       "  <tbody>\n",
       "    <tr>\n",
       "      <th>0</th>\n",
       "      <td>0</td>\n",
       "      <td>a b c d e spark</td>\n",
       "      <td>1.0</td>\n",
       "    </tr>\n",
       "    <tr>\n",
       "      <th>1</th>\n",
       "      <td>1</td>\n",
       "      <td>a c f g</td>\n",
       "      <td>0.0</td>\n",
       "    </tr>\n",
       "    <tr>\n",
       "      <th>2</th>\n",
       "      <td>2</td>\n",
       "      <td>learn spark and say hello world</td>\n",
       "      <td>1.0</td>\n",
       "    </tr>\n",
       "    <tr>\n",
       "      <th>3</th>\n",
       "      <td>3</td>\n",
       "      <td>hadoop mapreduce big data analysis</td>\n",
       "      <td>0.0</td>\n",
       "    </tr>\n",
       "    <tr>\n",
       "      <th>4</th>\n",
       "      <td>4</td>\n",
       "      <td>I love spark and spark is fast</td>\n",
       "      <td>1.0</td>\n",
       "    </tr>\n",
       "    <tr>\n",
       "      <th>5</th>\n",
       "      <td>5</td>\n",
       "      <td>big data needs</td>\n",
       "      <td>0.0</td>\n",
       "    </tr>\n",
       "    <tr>\n",
       "      <th>6</th>\n",
       "      <td>6</td>\n",
       "      <td>spark is much faster than mapreduce</td>\n",
       "      <td>1.0</td>\n",
       "    </tr>\n",
       "    <tr>\n",
       "      <th>7</th>\n",
       "      <td>7</td>\n",
       "      <td>spark is based on hadoop</td>\n",
       "      <td>1.0</td>\n",
       "    </tr>\n",
       "    <tr>\n",
       "      <th>8</th>\n",
       "      <td>8</td>\n",
       "      <td>spark fast</td>\n",
       "      <td>1.0</td>\n",
       "    </tr>\n",
       "    <tr>\n",
       "      <th>9</th>\n",
       "      <td>9</td>\n",
       "      <td>fast does not mean reliable</td>\n",
       "      <td>0.0</td>\n",
       "    </tr>\n",
       "    <tr>\n",
       "      <th>10</th>\n",
       "      <td>10</td>\n",
       "      <td>hello spark and hadoop</td>\n",
       "      <td>0.0</td>\n",
       "    </tr>\n",
       "  </tbody>\n",
       "</table>\n",
       "</div>"
      ],
      "text/plain": [
       "    id                                 text  label\n",
       "0    0                      a b c d e spark    1.0\n",
       "1    1                              a c f g    0.0\n",
       "2    2      learn spark and say hello world    1.0\n",
       "3    3   hadoop mapreduce big data analysis    0.0\n",
       "4    4       I love spark and spark is fast    1.0\n",
       "5    5                      big data needs     0.0\n",
       "6    6  spark is much faster than mapreduce    1.0\n",
       "7    7             spark is based on hadoop    1.0\n",
       "8    8                          spark fast     1.0\n",
       "9    9          fast does not mean reliable    0.0\n",
       "10  10               hello spark and hadoop    0.0"
      ]
     },
     "execution_count": 3,
     "metadata": {},
     "output_type": "execute_result"
    }
   ],
   "source": [
    "# Check df_train\n",
    "df_train"
   ]
  },
  {
   "cell_type": "code",
   "execution_count": 8,
   "metadata": {},
   "outputs": [
    {
     "name": "stdout",
     "output_type": "stream",
     "text": [
      "+---+--------------------+-----+\n",
      "| id|                text|label|\n",
      "+---+--------------------+-----+\n",
      "|  0|     a b c d e spark|  1.0|\n",
      "|  1|             a c f g|  0.0|\n",
      "|  2|learn spark and s...|  1.0|\n",
      "|  3|hadoop mapreduce ...|  0.0|\n",
      "|  4|I love spark and ...|  1.0|\n",
      "|  5|     big data needs |  0.0|\n",
      "|  6|spark is much fas...|  1.0|\n",
      "|  7|spark is based on...|  1.0|\n",
      "|  8|         spark fast |  1.0|\n",
      "|  9|fast does not mea...|  0.0|\n",
      "| 10|hello spark and h...|  0.0|\n",
      "+---+--------------------+-----+\n",
      "\n"
     ]
    }
   ],
   "source": [
    "dftrain = spark.createDataFrame([(0,\"a b c d e spark\",1.0),\n",
    "                                 (1,\"a c f g\",0.0),\n",
    "                                 (2,\"learn spark and say hello world\",1.0),\n",
    "                                 (3,\"hadoop mapreduce big data analysis\",0.0),\n",
    "                                 (4,\"I love spark and spark is fast\", 1.0),\n",
    "                                 (5,\"big data needs \",0.0),\n",
    "                                 (6,\"spark is much faster than mapreduce\",1.0),\n",
    "                                 (7,\"spark is based on hadoop\",1.0),\n",
    "                                 (8,\"spark fast \",1.0),\n",
    "                                 (9,\"fast does not mean reliable\",0.0),\n",
    "                                 (10,\"hello spark and hadoop\",0.0)],[\"id\",\"text\",\"label\"])\n",
    "dftrain.show()"
   ]
  },
  {
   "cell_type": "code",
   "execution_count": 4,
   "metadata": {},
   "outputs": [
    {
     "data": {
      "text/html": [
       "<div>\n",
       "<style scoped>\n",
       "    .dataframe tbody tr th:only-of-type {\n",
       "        vertical-align: middle;\n",
       "    }\n",
       "\n",
       "    .dataframe tbody tr th {\n",
       "        vertical-align: top;\n",
       "    }\n",
       "\n",
       "    .dataframe thead th {\n",
       "        text-align: right;\n",
       "    }\n",
       "</style>\n",
       "<table border=\"1\" class=\"dataframe\">\n",
       "  <thead>\n",
       "    <tr style=\"text-align: right;\">\n",
       "      <th></th>\n",
       "      <th>id</th>\n",
       "      <th>text</th>\n",
       "      <th>label</th>\n",
       "    </tr>\n",
       "  </thead>\n",
       "  <tbody>\n",
       "    <tr>\n",
       "      <th>0</th>\n",
       "      <td>11</td>\n",
       "      <td>spark job</td>\n",
       "      <td>1.0</td>\n",
       "    </tr>\n",
       "    <tr>\n",
       "      <th>1</th>\n",
       "      <td>12</td>\n",
       "      <td>hello world and hadoop</td>\n",
       "      <td>0.0</td>\n",
       "    </tr>\n",
       "    <tr>\n",
       "      <th>2</th>\n",
       "      <td>13</td>\n",
       "      <td>a b c d e</td>\n",
       "      <td>0.0</td>\n",
       "    </tr>\n",
       "    <tr>\n",
       "      <th>3</th>\n",
       "      <td>14</td>\n",
       "      <td>fast blast cast mapreduce</td>\n",
       "      <td>0.0</td>\n",
       "    </tr>\n",
       "    <tr>\n",
       "      <th>4</th>\n",
       "      <td>15</td>\n",
       "      <td>spark is easy to use.</td>\n",
       "      <td>1.0</td>\n",
       "    </tr>\n",
       "  </tbody>\n",
       "</table>\n",
       "</div>"
      ],
      "text/plain": [
       "   id                       text  label\n",
       "0  11                  spark job    1.0\n",
       "1  12     hello world and hadoop    0.0\n",
       "2  13                  a b c d e    0.0\n",
       "3  14  fast blast cast mapreduce    0.0\n",
       "4  15      spark is easy to use.    1.0"
      ]
     },
     "execution_count": 4,
     "metadata": {},
     "output_type": "execute_result"
    }
   ],
   "source": [
    "# Check df_test\n",
    "df_test"
   ]
  },
  {
   "cell_type": "markdown",
   "metadata": {},
   "source": [
    "### 4. Exploratory Data Analysis\n",
    "---\n",
    "*(Cleanse, wrangle, transform, and analyze the data. Compute descriptive statistics and visualize the values of features and correlations between different features. Explain the process and the results.)*"
   ]
  },
  {
   "cell_type": "code",
   "execution_count": 5,
   "metadata": {},
   "outputs": [
    {
     "data": {
      "text/plain": [
       "Index(['id', 'text', 'label'], dtype='object')"
      ]
     },
     "execution_count": 5,
     "metadata": {},
     "output_type": "execute_result"
    }
   ],
   "source": [
    "# Print the dataset columns\n",
    "df_train.columns"
   ]
  },
  {
   "cell_type": "code",
   "execution_count": 6,
   "metadata": {},
   "outputs": [
    {
     "data": {
      "text/html": [
       "<div>\n",
       "<style scoped>\n",
       "    .dataframe tbody tr th:only-of-type {\n",
       "        vertical-align: middle;\n",
       "    }\n",
       "\n",
       "    .dataframe tbody tr th {\n",
       "        vertical-align: top;\n",
       "    }\n",
       "\n",
       "    .dataframe thead th {\n",
       "        text-align: right;\n",
       "    }\n",
       "</style>\n",
       "<table border=\"1\" class=\"dataframe\">\n",
       "  <thead>\n",
       "    <tr style=\"text-align: right;\">\n",
       "      <th></th>\n",
       "      <th>id</th>\n",
       "      <th>text</th>\n",
       "      <th>label</th>\n",
       "    </tr>\n",
       "  </thead>\n",
       "  <tbody>\n",
       "    <tr>\n",
       "      <th>0</th>\n",
       "      <td>0</td>\n",
       "      <td>a b c d e spark</td>\n",
       "      <td>1.0</td>\n",
       "    </tr>\n",
       "    <tr>\n",
       "      <th>1</th>\n",
       "      <td>1</td>\n",
       "      <td>a c f g</td>\n",
       "      <td>0.0</td>\n",
       "    </tr>\n",
       "    <tr>\n",
       "      <th>2</th>\n",
       "      <td>2</td>\n",
       "      <td>learn spark and say hello world</td>\n",
       "      <td>1.0</td>\n",
       "    </tr>\n",
       "    <tr>\n",
       "      <th>3</th>\n",
       "      <td>3</td>\n",
       "      <td>hadoop mapreduce big data analysis</td>\n",
       "      <td>0.0</td>\n",
       "    </tr>\n",
       "    <tr>\n",
       "      <th>4</th>\n",
       "      <td>4</td>\n",
       "      <td>I love spark and spark is fast</td>\n",
       "      <td>1.0</td>\n",
       "    </tr>\n",
       "  </tbody>\n",
       "</table>\n",
       "</div>"
      ],
      "text/plain": [
       "   id                                text  label\n",
       "0   0                     a b c d e spark    1.0\n",
       "1   1                             a c f g    0.0\n",
       "2   2     learn spark and say hello world    1.0\n",
       "3   3  hadoop mapreduce big data analysis    0.0\n",
       "4   4      I love spark and spark is fast    1.0"
      ]
     },
     "execution_count": 6,
     "metadata": {},
     "output_type": "execute_result"
    }
   ],
   "source": [
    "# Display below the first 5 rows of the DataFrame we created\n",
    "df_train.head(5)"
   ]
  },
  {
   "cell_type": "code",
   "execution_count": 7,
   "metadata": {},
   "outputs": [
    {
     "data": {
      "text/plain": [
       "(11, 3)"
      ]
     },
     "execution_count": 7,
     "metadata": {},
     "output_type": "execute_result"
    }
   ],
   "source": [
    "# Returns the row and column count of a dataset\n",
    "df_train.shape"
   ]
  },
  {
   "cell_type": "code",
   "execution_count": 8,
   "metadata": {},
   "outputs": [
    {
     "data": {
      "text/html": [
       "<div>\n",
       "<style scoped>\n",
       "    .dataframe tbody tr th:only-of-type {\n",
       "        vertical-align: middle;\n",
       "    }\n",
       "\n",
       "    .dataframe tbody tr th {\n",
       "        vertical-align: top;\n",
       "    }\n",
       "\n",
       "    .dataframe thead th {\n",
       "        text-align: right;\n",
       "    }\n",
       "</style>\n",
       "<table border=\"1\" class=\"dataframe\">\n",
       "  <thead>\n",
       "    <tr style=\"text-align: right;\">\n",
       "      <th></th>\n",
       "      <th>id</th>\n",
       "      <th>label</th>\n",
       "    </tr>\n",
       "  </thead>\n",
       "  <tbody>\n",
       "    <tr>\n",
       "      <th>count</th>\n",
       "      <td>11.000000</td>\n",
       "      <td>11.000000</td>\n",
       "    </tr>\n",
       "    <tr>\n",
       "      <th>mean</th>\n",
       "      <td>5.000000</td>\n",
       "      <td>0.545455</td>\n",
       "    </tr>\n",
       "    <tr>\n",
       "      <th>std</th>\n",
       "      <td>3.316625</td>\n",
       "      <td>0.522233</td>\n",
       "    </tr>\n",
       "    <tr>\n",
       "      <th>min</th>\n",
       "      <td>0.000000</td>\n",
       "      <td>0.000000</td>\n",
       "    </tr>\n",
       "    <tr>\n",
       "      <th>25%</th>\n",
       "      <td>2.500000</td>\n",
       "      <td>0.000000</td>\n",
       "    </tr>\n",
       "    <tr>\n",
       "      <th>50%</th>\n",
       "      <td>5.000000</td>\n",
       "      <td>1.000000</td>\n",
       "    </tr>\n",
       "    <tr>\n",
       "      <th>75%</th>\n",
       "      <td>7.500000</td>\n",
       "      <td>1.000000</td>\n",
       "    </tr>\n",
       "    <tr>\n",
       "      <th>max</th>\n",
       "      <td>10.000000</td>\n",
       "      <td>1.000000</td>\n",
       "    </tr>\n",
       "  </tbody>\n",
       "</table>\n",
       "</div>"
      ],
      "text/plain": [
       "              id      label\n",
       "count  11.000000  11.000000\n",
       "mean    5.000000   0.545455\n",
       "std     3.316625   0.522233\n",
       "min     0.000000   0.000000\n",
       "25%     2.500000   0.000000\n",
       "50%     5.000000   1.000000\n",
       "75%     7.500000   1.000000\n",
       "max    10.000000   1.000000"
      ]
     },
     "execution_count": 8,
     "metadata": {},
     "output_type": "execute_result"
    }
   ],
   "source": [
    "# Returns statistics about the numerical columns in a dataset\n",
    "df_train.describe()"
   ]
  },
  {
   "cell_type": "code",
   "execution_count": 9,
   "metadata": {},
   "outputs": [
    {
     "data": {
      "text/plain": [
       "id         int64\n",
       "text      object\n",
       "label    float64\n",
       "dtype: object"
      ]
     },
     "execution_count": 9,
     "metadata": {},
     "output_type": "execute_result"
    }
   ],
   "source": [
    "# Returns the data type of each column\n",
    "df_train.dtypes"
   ]
  },
  {
   "cell_type": "code",
   "execution_count": 10,
   "metadata": {},
   "outputs": [
    {
     "data": {
      "text/plain": [
       "False"
      ]
     },
     "execution_count": 10,
     "metadata": {},
     "output_type": "execute_result"
    }
   ],
   "source": [
    "# Checking if there are any missing values in the dataset\n",
    "df_train.isnull().sum().any()"
   ]
  },
  {
   "cell_type": "code",
   "execution_count": 11,
   "metadata": {},
   "outputs": [
    {
     "data": {
      "text/plain": [
       "<AxesSubplot:>"
      ]
     },
     "execution_count": 11,
     "metadata": {},
     "output_type": "execute_result"
    },
    {
     "data": {
      "image/png": "[encoded data removed]",
      "text/plain": [
       "<Figure size 432x288 with 2 Axes>"
      ]
     },
     "metadata": {
      "needs_background": "light"
     },
     "output_type": "display_data"
    }
   ],
   "source": [
    "# Visualization to check for missing values\n",
    "# I use heatmap function in \"seaborn\" library to identify NaN values!\n",
    "sns.heatmap(df_train.isna())"
   ]
  },
  {
   "cell_type": "code",
   "execution_count": 12,
   "metadata": {},
   "outputs": [
    {
     "data": {
      "text/plain": [
       "0"
      ]
     },
     "execution_count": 12,
     "metadata": {},
     "output_type": "execute_result"
    }
   ],
   "source": [
    "# Counts the number of missing values in the whole dataset\n",
    "df_train.isnull().sum().sum() "
   ]
  },
  {
   "cell_type": "code",
   "execution_count": 13,
   "metadata": {},
   "outputs": [
    {
     "data": {
      "text/plain": [
       "id       0\n",
       "text     0\n",
       "label    0\n",
       "dtype: int64"
      ]
     },
     "execution_count": 13,
     "metadata": {},
     "output_type": "execute_result"
    }
   ],
   "source": [
    "# Counts null values per column\n",
    "df_train.isnull().sum()"
   ]
  },
  {
   "cell_type": "code",
   "execution_count": 14,
   "metadata": {},
   "outputs": [
    {
     "data": {
      "image/png": "[encoded data removed]",
      "text/plain": [
       "<Figure size 504x504 with 2 Axes>"
      ]
     },
     "metadata": {
      "needs_background": "light"
     },
     "output_type": "display_data"
    }
   ],
   "source": [
    "# Heatmap to show Correlations between different features\n",
    "corr = df_train.corr()\n",
    "plt.figure(figsize=(7,7))\n",
    "sns.heatmap(corr, annot=True, cmap='Blues',square=True) \n",
    "plt.show()"
   ]
  },
  {
   "cell_type": "markdown",
   "metadata": {},
   "source": [
    "### 5. Modeling and Evaluation\n",
    "---\n",
    "*(Build analytic models and evaluate the models on the data. Provide detail on the data analytics process you have undertaken, e.g. data cleansing and preparation, feature selection, data modelling techniques and your rationale for selecting these.The analytics should be guided by the problem defined earlier. Explain the process and results along with code snippets. For the results, application of different methods and metrics for model evaluation. Visualization of results.)*"
   ]
  },
  {
   "cell_type": "code",
   "execution_count": 9,
   "metadata": {},
   "outputs": [
    {
     "name": "stdout",
     "output_type": "stream",
     "text": [
      "<class 'pyspark.ml.feature.Tokenizer'>\n",
      "<class 'pyspark.ml.feature.HashingTF'>\n",
      "<class 'pyspark.ml.classification.LogisticRegression'>\n",
      "<class 'pyspark.ml.pipeline.Pipeline'>\n"
     ]
    }
   ],
   "source": [
    "# Model Construction\n",
    "tokenizer = Tokenizer().setInputCol(\"text\").setOutputCol(\"words\")\n",
    "print(type(tokenizer))\n",
    "\n",
    "hashingTF = HashingTF().setNumFeatures(100) \\\n",
    "   .setInputCol(tokenizer.getOutputCol()) \\\n",
    "   .setOutputCol(\"features\")\n",
    "print(type(hashingTF))\n",
    "\n",
    "lr = LogisticRegression().setLabelCol(\"label\")\n",
    "#print(lr.explainParams)\n",
    "lr.setFeaturesCol(\"features\").setMaxIter(10).setRegParam(0.2)\n",
    "print(type(lr))\n",
    "\n",
    "pipe = Pipeline().setStages([tokenizer,hashingTF,lr])\n",
    "print(type(pipe))"
   ]
  },
  {
   "cell_type": "code",
   "execution_count": 10,
   "metadata": {},
   "outputs": [
    {
     "name": "stdout",
     "output_type": "stream",
     "text": [
      "<class 'pyspark.ml.pipeline.PipelineModel'>\n"
     ]
    }
   ],
   "source": [
    "# Model Training\n",
    "model = pipe.fit(dftrain)\n",
    "print(type(model))"
   ]
  },
  {
   "cell_type": "code",
   "execution_count": 11,
   "metadata": {},
   "outputs": [
    {
     "name": "stdout",
     "output_type": "stream",
     "text": [
      "+---+--------------------+-----+\n",
      "| id|                text|label|\n",
      "+---+--------------------+-----+\n",
      "| 11|           spark job|  1.0|\n",
      "| 12|hello world and h...|  0.0|\n",
      "| 13|           a b c d e|  0.0|\n",
      "| 14|fast blast cast m...|  0.0|\n",
      "| 15|spark is easy to ...|  1.0|\n",
      "+---+--------------------+-----+\n",
      "\n",
      "+--------------------+--------------------+--------------------+----------+\n",
      "|                text|            features|         probability|prediction|\n",
      "+--------------------+--------------------+--------------------+----------+\n",
      "|           spark job|(100,[57,86],[1.0...|[0.37840207538908...|       1.0|\n",
      "|hello world and h...|(100,[60,85,89,91...|[0.65410393426222...|       0.0|\n",
      "|           a b c d e|(100,[50,65,67,68...|[0.21379785526741...|       1.0|\n",
      "|fast blast cast m...|(100,[16,32,50,63...|[0.37796022540695...|       1.0|\n",
      "|spark is easy to ...|(100,[9,21,60,86,...|[0.17295405224269...|       1.0|\n",
      "+--------------------+--------------------+--------------------+----------+\n",
      "\n"
     ]
    }
   ],
   "source": [
    "# Model Testing \n",
    "dftest = spark.createDataFrame([(11,\"spark job\",1.0),\n",
    "                                (12,\"hello world and hadoop\",0.0),\n",
    "                                (13,\"a b c d e\",0.0),\n",
    "                                (14,\"fast blast cast mapreduce\",0.0),\n",
    "                                (15,\"spark is easy to use.\",1.0)]).toDF(\"id\",\"text\",\"label\")\n",
    "dftest.show()\n",
    "\n",
    "dfresult = model.transform(dftest)\n",
    "dfresult.selectExpr(\"text\",\"features\",\"probability\",\"prediction\").show()"
   ]
  },
  {
   "cell_type": "code",
   "execution_count": 12,
   "metadata": {},
   "outputs": [
    {
     "name": "stdout",
     "output_type": "stream",
     "text": [
      "root\n",
      " |-- id: long (nullable = true)\n",
      " |-- text: string (nullable = true)\n",
      " |-- label: double (nullable = true)\n",
      " |-- words: array (nullable = true)\n",
      " |    |-- element: string (containsNull = true)\n",
      " |-- features: vector (nullable = true)\n",
      " |-- rawPrediction: vector (nullable = true)\n",
      " |-- probability: vector (nullable = true)\n",
      " |-- prediction: double (nullable = false)\n",
      "\n"
     ]
    }
   ],
   "source": [
    "# Model Evaluation\n",
    "dfresult.printSchema()"
   ]
  },
  {
   "cell_type": "code",
   "execution_count": 13,
   "metadata": {},
   "outputs": [
    {
     "name": "stdout",
     "output_type": "stream",
     "text": [
      "\n",
      " accuracy = 0.5666666666666667\n"
     ]
    }
   ],
   "source": [
    "# Evaluation via Accuracy Index\n",
    "evaluator = MulticlassClassificationEvaluator().setMetricName(\"f1\") \\\n",
    "    .setPredictionCol(\"prediction\").setLabelCol(\"label\")\n",
    "\n",
    "#print(evaluator.explainParams())\n",
    "accuracy  = evaluator.evaluate(dfresult)\n",
    "print(\"\\n accuracy = {}\".format(accuracy))"
   ]
  },
  {
   "cell_type": "markdown",
   "metadata": {},
   "source": [
    "### 6. Discussions and Conclusions\n",
    "---\n",
    "*(Provide a summary of the various results that you have obtained from the analysis and what these tell us. Briefly describe what you have done using cloud computing techniques and what you discovered. Discuss any shortcomings of the process and results. Propose future work. **Finally, discuss the lessons learned from doing the assignment**.)*"
   ]
  },
  {
   "cell_type": "markdown",
   "metadata": {},
   "source": [
    "可以看到，模型最终的准确率只有 56.7%，还有很大的提升空间。使得模型准确率低的一 个关键原因是数据集太小，可供训练的训练样本太少，因此模型没有能够充分准确地把握 数据集的关键特征。因此，后面的改进中，我会寻找更大样本的数据集重新进行建模。与 此同时，在模型参数的设置上，可以进一步尝试优化，以获得更好的准确率。"
   ]
  },
  {
   "cell_type": "markdown",
   "metadata": {},
   "source": [
    "### 7. References"
   ]
  },
  {
   "cell_type": "markdown",
   "metadata": {},
   "source": [
    "<br>\n",
    "[1] htps://blog.csdn.net/weixin_42331985/article/details/124126019\n",
    "<br>\n",
    "[2] https://zhuanlan.zhihu.com/p/397770615\n",
    "<br>\n",
    "[3] https://blog.csdn.net/iqdutao/article/details/109478633\n",
    "<br>\n",
    "[4] https://www.heywhale.com/mw/project/5fe6b1d15e24ed0030230d8b"
   ]
  },
  {
   "cell_type": "code",
   "execution_count": null,
   "metadata": {},
   "outputs": [],
   "source": []
  }
 ],
 "metadata": {
  "kernelspec": {
   "display_name": "Python 3",
   "language": "python",
   "name": "python3"
  },
  "language_info": {
   "codemirror_mode": {
    "name": "ipython",
    "version": 3
   },
   "file_extension": ".py",
   "mimetype": "text/x-python",
   "name": "python",
   "nbconvert_exporter": "python",
   "pygments_lexer": "ipython3",
   "version": "3.8.2"
  }
 },
 "nbformat": 4,
 "nbformat_minor": 4
}
